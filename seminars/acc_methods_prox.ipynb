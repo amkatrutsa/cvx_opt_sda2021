{
 "cells": [
  {
   "cell_type": "markdown",
   "metadata": {
    "slideshow": {
     "slide_type": "slide"
    }
   },
   "source": [
    "# Intro to acceleration methods"
   ]
  },
  {
   "cell_type": "markdown",
   "metadata": {
    "slideshow": {
     "slide_type": "slide"
    }
   },
   "source": [
    "## Reminder about gradient descent\n",
    "\n",
    "- Easy to implement\n",
    "- It converges at least to stationary point\n",
    "- Recent [paper](https://arxiv.org/pdf/1602.04915.pdf) shows that GD converges to a local minimizer **almost sure** with random initialization\n",
    "- Linear convergence in strongly convex case\n",
    "- $O(1/k)$ convergence in convex $L$-smooth case\n",
    "- It strongly depends on the condition number of $f''(x)$, random initial guess vector can help"
   ]
  },
  {
   "cell_type": "markdown",
   "metadata": {
    "slideshow": {
     "slide_type": "slide"
    }
   },
   "source": [
    "## Can we do better?\n",
    "\n",
    "- Heavy-ball method\n",
    "- Nesterov accelerated gradient method"
   ]
  },
  {
   "cell_type": "markdown",
   "metadata": {
    "slideshow": {
     "slide_type": "slide"
    }
   },
   "source": [
    "## Heavy-ball method (Polyak, 1964)\n",
    "\n",
    "$$\n",
    "x_{k+1} = x_k - \\alpha_k f'(x_k) + {\\color{red}{\\beta_k(x_k - x_{k-1})}}\n",
    "$$\n",
    "\n",
    "- Two-step non-monotone method\n",
    "- Discretization of the ODE with friction term\n",
    "\n",
    "$$\n",
    "\\ddot x + b \\dot x + a f'(x) = 0\n",
    "$$\n",
    "\n",
    "- CG is special case of this form"
   ]
  },
  {
   "cell_type": "markdown",
   "metadata": {
    "slideshow": {
     "slide_type": "slide"
    }
   },
   "source": [
    "### Heavy ball method visualization\n",
    "Picture is from [this](https://www.princeton.edu/~yc5/ele538_optimization/lectures/accelerated_gradient.pdf) presentation\n",
    "<img src=\"./heavy_ball.png\" width=600 align=\"center\">"
   ]
  },
  {
   "cell_type": "markdown",
   "metadata": {
    "slideshow": {
     "slide_type": "slide"
    }
   },
   "source": [
    "### Convergence: $\\mu$-strongly convex\n",
    "- Rewrite method as \n",
    "\\begin{equation*}\n",
    "\\begin{split} \n",
    "\\begin{bmatrix} x_{k+1}\\\\ x_k \\end{bmatrix}\n",
    " = \\begin{bmatrix} (1 + \\beta_k)I & -\\beta_k I \\\\ I & 0 \\end{bmatrix}\n",
    " \\begin{bmatrix} x_k\\\\ x_{k-1} \\end{bmatrix}\n",
    " +\n",
    " \\begin{bmatrix} -\\alpha_k f'(x_k)\\\\ 0 \\end{bmatrix}\n",
    "\\end{split}\n",
    "\\end{equation*}\n",
    "-  Use theorem from calculus\n",
    "\\begin{equation*}\n",
    "\\begin{split}\n",
    "\\begin{bmatrix} x_{k+1} - x^*\\\\ x_k - x^* \\end{bmatrix}\n",
    " = \n",
    " \\underbrace{ \\begin{bmatrix} (1 + \\beta_k)I - \\alpha_k \\int_0^1 f''(x(\\tau))d\\tau & -\\beta_k I\\\\ I & 0 \\end{bmatrix}}_{=A_t}\n",
    " \\begin{bmatrix} x_k - x^*\\\\ x_{k-1} - x^* \\end{bmatrix},\n",
    "\\end{split}\n",
    "\\end{equation*}\n",
    "where $x(\\tau) = x_k + \\tau(x^* - x_k) $\n",
    "- Convergence depends on the spectrum of the iteration matrix $A_t$\n",
    "- Select $\\alpha_k$ and $\\beta_k$ to make spectral radius the smallest "
   ]
  },
  {
   "cell_type": "markdown",
   "metadata": {
    "slideshow": {
     "slide_type": "slide"
    }
   },
   "source": [
    "### Theorem\n",
    "Let $f$ be $L$-smooth and $\\mu$-strongly convex. Then $\\alpha_k = \\frac{4}{(\\sqrt{L} + \\sqrt{\\mu})^2}$ and $\\beta_k = \\max(|1 - \\sqrt{\\alpha_k L}|^2, |1 - \\sqrt{\\alpha_k \\mu}|^2)$ gives\n",
    "\n",
    "$$ \n",
    "\\left\\| \\begin{bmatrix} x_{k+1} - x^* \\\\ x_k - x^* \\end{bmatrix} \\right\\|_2\n",
    "\\leq \n",
    "\\left( \\frac{\\sqrt{\\kappa} - 1}{\\sqrt{\\kappa} + 1} \\right)^k \\left \\|\n",
    "\\begin{bmatrix} x_1 - x^* \\\\ x_0 - x^* \\end{bmatrix}\n",
    "\\right \\|_2\n",
    "$$\n",
    "\n",
    "\n",
    "- Parameters depend on $L$ and $\\mu$\n",
    "- Faster than GD\n",
    "- Similar to CG for $\\mu$-strongly convex quadratic\n",
    "- Can such estimate be extend to $L$-smooth convex function?"
   ]
  },
  {
   "cell_type": "code",
   "execution_count": 39,
   "metadata": {
    "slideshow": {
     "slide_type": "slide"
    }
   },
   "outputs": [],
   "source": [
    "import liboptpy.base_optimizer as base\n",
    "import numpy as np\n",
    "import liboptpy.unconstr_solvers.fo as fo\n",
    "import liboptpy.step_size as ss\n",
    "\n",
    "class HeavyBall(base.LineSearchOptimizer):\n",
    "    def __init__(self, f, grad, step_size, beta, **kwargs):\n",
    "        super().__init__(f, grad, step_size, **kwargs)\n",
    "        self._beta = beta\n",
    "    \n",
    "    def get_direction(self, x):\n",
    "        self._current_grad = self._grad(x)\n",
    "        return -self._current_grad\n",
    "\n",
    "    def _f_update_x_next(self, x, alpha, h):\n",
    "        if len(self.convergence) < 2:\n",
    "            return x + alpha * h\n",
    "        else:\n",
    "            return x + alpha * h + self._beta * (x - self.convergence[-2])\n",
    "    \n",
    "    def get_stepsize(self):\n",
    "        return self._step_size.get_stepsize(self._grad_mem[-1], self.convergence[-1], len(self.convergence))"
   ]
  },
  {
   "cell_type": "markdown",
   "metadata": {
    "slideshow": {
     "slide_type": "slide"
    }
   },
   "source": [
    "## Quadratic experiments"
   ]
  },
  {
   "cell_type": "code",
   "execution_count": 58,
   "metadata": {
    "slideshow": {
     "slide_type": "slide"
    }
   },
   "outputs": [
    {
     "name": "stdout",
     "output_type": "stream",
     "text": [
      "207.51555614598283 -7.541612013625621e-15 -2.751607425190519e+16\n",
      "nan nan\n"
     ]
    },
    {
     "name": "stderr",
     "output_type": "stream",
     "text": [
      "/Users/alex/anaconda3/envs/cvxpy/lib/python3.6/site-packages/ipykernel_launcher.py:12: RuntimeWarning: invalid value encountered in sqrt\n",
      "  if sys.path[0] == '':\n"
     ]
    }
   ],
   "source": [
    "n = 50\n",
    "A = np.random.randn(n-1, n)\n",
    "A = A.T.dot(A)\n",
    "x_true = np.random.randn(n)\n",
    "b = A.dot(x_true)\n",
    "f = lambda x: 0.5 * x.dot(A.dot(x)) - b.dot(x)\n",
    "grad = lambda x: A.dot(x) - b\n",
    "A_eigvals = np.linalg.eigvalsh(A)\n",
    "L = np.max(A_eigvals)\n",
    "mu = np.min(A_eigvals)\n",
    "print(L, mu, L / mu)\n",
    "alpha_opt = 4 / (np.sqrt(L) + np.sqrt(mu))**2 \n",
    "beta_opt = np.maximum((1 - np.sqrt(alpha_opt * L))**2, \n",
    "                      (1 - np.sqrt(alpha_opt * mu))**2)\n",
    "print(alpha_opt, beta_opt)\n",
    "# beta_opt = (np.sqrt(L) - np.sqrt(mu)) / (np.sqrt(L) + np.sqrt(mu))\n",
    "# print((np.sqrt(L) - np.sqrt(mu)) / (np.sqrt(L) + np.sqrt(mu)))"
   ]
  },
  {
   "cell_type": "code",
   "execution_count": 62,
   "metadata": {
    "slideshow": {
     "slide_type": "slide"
    }
   },
   "outputs": [],
   "source": [
    "methods = {\n",
    "    \"GD fixed\": fo.GradientDescent(f, grad, ss.ConstantStepSize(1e-3)),\n",
    "#     \"GD Armijo\": fo.GradientDescent(f, grad,\n",
    "#             ss.Backtracking(\"Armijo\", rho=0.5, beta=0.1, init_alpha=1.)),\n",
    "    \"HB\": HeavyBall(f, grad, ss.ConstantStepSize(1e-3), beta=0.99),\n",
    "#     \"HB optimal\": HeavyBall(f, grad, ss.ConstantStepSize(alpha_opt), beta = beta_opt)\n",
    "}\n",
    "x0 = np.random.randn(n)\n",
    "max_iter = 60000\n",
    "tol = 1e-7"
   ]
  },
  {
   "cell_type": "code",
   "execution_count": 63,
   "metadata": {
    "slideshow": {
     "slide_type": "slide"
    }
   },
   "outputs": [],
   "source": [
    "for m in methods:\n",
    "    _ = methods[m].solve(x0=x0, max_iter=max_iter, tol=tol)"
   ]
  },
  {
   "cell_type": "code",
   "execution_count": 64,
   "metadata": {
    "slideshow": {
     "slide_type": "slide"
    }
   },
   "outputs": [
    {
     "data": {
      "image/png": "[encoded data removed]",
      "text/plain": [
       "<Figure size 720x576 with 1 Axes>"
      ]
     },
     "metadata": {},
     "output_type": "display_data"
    }
   ],
   "source": [
    "import matplotlib.pyplot as plt\n",
    "%matplotlib inline\n",
    "plt.rc(\"text\", usetex=True)\n",
    "\n",
    "figsize = (10, 8)\n",
    "fontsize = 26\n",
    "plt.figure(figsize=figsize)\n",
    "for m in methods:\n",
    "    plt.semilogy([np.linalg.norm(grad(x)) for x in methods[m].get_convergence()], label=m, linewidth=3)\n",
    "plt.legend(fontsize=fontsize)\n",
    "plt.xlabel(\"Number of iteration, $k$\", fontsize=fontsize)\n",
    "plt.ylabel(r\"$\\| f'(x_k)\\|_2$\", fontsize=fontsize)\n",
    "plt.xticks(fontsize=fontsize)\n",
    "_ = plt.yticks(fontsize=fontsize)"
   ]
  },
  {
   "cell_type": "markdown",
   "metadata": {
    "slideshow": {
     "slide_type": "slide"
    }
   },
   "source": [
    "### Heavy-ball method highlights\n",
    "\n",
    "- Simple two-step method\n",
    "- Converges much faster than GD with appropriate $\\alpha_k$, $\\beta_k$\n",
    "- CG is particular case\n",
    "- Proof only for $\\mu$-strongly convex functions"
   ]
  },
  {
   "cell_type": "markdown",
   "metadata": {
    "slideshow": {
     "slide_type": "slide"
    }
   },
   "source": [
    "## Nesterov accelerated methods (Nesterov, 1983)\n",
    "\n",
    "One of possible notation variant\n",
    "\n",
    "\\begin{equation*}\n",
    "\\begin{split}\n",
    "& y_0 = x_0 \\\\\n",
    "& x_{k+1} = y_k - \\alpha_k f'(y_k)\\\\\n",
    "& y_{k+1} = x_{k+1} + \\frac{k}{k + 3} (x_{k+1} - x_k)\n",
    "\\end{split}\n",
    "\\end{equation*}\n",
    "\n",
    "- Heavy-ball comparison\n",
    "- ODE interpretation again\n",
    "- Non-monotone, too\n",
    "- For those who likes geometry there exists [geometric descent](https://arxiv.org/pdf/1506.08187.pdf) with the same optimal speed of convergence "
   ]
  },
  {
   "cell_type": "markdown",
   "metadata": {
    "slideshow": {
     "slide_type": "slide"
    }
   },
   "source": [
    "### Nesterov method visualization\n",
    "\n",
    "<img src=\"nesterov_plot.png\" width=600>"
   ]
  },
  {
   "cell_type": "code",
   "execution_count": 76,
   "metadata": {
    "slideshow": {
     "slide_type": "slide"
    }
   },
   "outputs": [
    {
     "data": {
      "image/png": "[encoded data removed]",
      "text/plain": [
       "<Figure size 720x576 with 1 Axes>"
      ]
     },
     "metadata": {},
     "output_type": "display_data"
    }
   ],
   "source": [
    "methods[\"Nesterov\"] = fo.AcceleratedGD(f, grad, \n",
    "                                       ss.Backtracking(\"Lipschitz\",\n",
    "                                                       init_alpha=1.,\n",
    "                                                       rho=0.3))\n",
    "methods[\"Nesterov\"].solve(x0=x0, max_iter=max_iter, tol=tol)\n",
    "plt.figure(figsize=figsize)\n",
    "for m in methods:\n",
    "    plt.semilogy([np.linalg.norm(grad(x)) for x in \n",
    "                  methods[m].get_convergence()[:15000]], label=m)\n",
    "plt.legend(fontsize=fontsize, loc=\"best\")\n",
    "plt.xlabel(\"Number of iteration, $k$\", fontsize=fontsize)\n",
    "plt.ylabel(r\"$\\| f'(x_k)\\|_2$\", fontsize=fontsize)\n",
    "plt.xticks(fontsize=fontsize)\n",
    "_ = plt.yticks(fontsize=fontsize)"
   ]
  },
  {
   "cell_type": "markdown",
   "metadata": {
    "slideshow": {
     "slide_type": "slide"
    }
   },
   "source": [
    "## Nesterov accelerated method hightlights\n",
    "\n",
    "- Optimal w.r.t. theoretical bounds\n",
    "- Non-monotone, but [restarts](https://statweb.stanford.edu/~candes/papers/adap_restart_paper.pdf) can be useful\n",
    "- Parameters tuning can be not so easy ($L$ and $\\mu$ are unknown)\n",
    "- Deep learning applications (see [Chapter 8 in Deep learning book](https://www.deeplearningbook.org/contents/optimization.html))\n",
    "- Stochastic generalization"
   ]
  },
  {
   "cell_type": "markdown",
   "metadata": {
    "slideshow": {
     "slide_type": "slide"
    }
   },
   "source": [
    "## Proximal methods"
   ]
  },
  {
   "cell_type": "markdown",
   "metadata": {
    "slideshow": {
     "slide_type": "slide"
    }
   },
   "source": [
    "### Reminder of ODE interpretation of gradient descent\n",
    "\n",
    "Consider the following ODE\n",
    "$$\n",
    "\\frac{dx}{dt} = -f'(x(t))\n",
    "$$\n",
    "and after discretization\n",
    "\n",
    "$$\n",
    "\\frac{x_{k+1} - x_k}{\\alpha} = -f'(x_k),\n",
    "$$\n",
    "\n",
    "where $\\alpha = t_{k+1} - t_k$ is a grid step and $x_k \\equiv x(t_k)$\n",
    "\n",
    "From this follows \n",
    "\n",
    "$$\n",
    "x_{k+1} = x_k - \\alpha f'(x_k),\n",
    "$$\n",
    "\n",
    "which is equivalent to gradient descent method"
   ]
  },
  {
   "cell_type": "markdown",
   "metadata": {
    "slideshow": {
     "slide_type": "slide"
    }
   },
   "source": [
    "### Proximal method as backward Euler scheme\n",
    "\n",
    "$$\n",
    "\\frac{dx}{dt} = -f'(x(t))\n",
    "$$\n",
    "\n",
    "and after discretization in backward manner\n",
    "\n",
    "$$\n",
    "\\frac{x_{k+1} - x_k}{\\alpha} = -f'({\\color{red}{x_{k+1}}}),\n",
    "$$\n",
    "\n",
    "After some re-arrangements\n",
    "\\begin{align*}\n",
    "& \\left(\\frac{1}{2\\alpha} \\|u - x_k\\|_2^2 + f(u) \\right)'(x_{k+1}) = 0 \\\\\n",
    "& x_{k+1} = \\arg\\min_u \\left(f(u) + \\frac{1}{2\\alpha} \\|u - x_k\\|_2^2\\right) = prox_{\\alpha f}(x_k)\n",
    "\\end{align*}\n",
    "\n"
   ]
  },
  {
   "cell_type": "markdown",
   "metadata": {
    "slideshow": {
     "slide_type": "slide"
    }
   },
   "source": [
    "### Example: iterative refinement\n",
    "\n",
    "The method to solve positive semi-definite linear system given Cholesky factorization of $A + \\epsilon I$ for some $\\epsilon$\n",
    "$$\n",
    "f(x) = \\frac{1}{2}x^{\\top}Ax - b^{\\top}x \\to \\min_x,\n",
    "$$\n",
    "where $A \\in \\mathbb{S}^n_+$\n",
    "\n",
    "\\begin{align*}\n",
    "prox_{\\alpha f} (x_k) & = \\arg\\min_u \\left(\\frac{1}{2}u^{\\top}Au - b^{\\top}u + \\frac{1}{2\\alpha} \\|u - x_k\\|_2^2\\right) \\\\\n",
    "& = \\left(A + (1/ \\alpha) I\\right)^{-1}\\left(b + (1 / \\alpha)x_k\\right) \\\\\n",
    "& = x_k + (A + \\epsilon I)^{-1}(b - Ax_k)\n",
    "\\end{align*}"
   ]
  },
  {
   "cell_type": "markdown",
   "metadata": {
    "slideshow": {
     "slide_type": "slide"
    }
   },
   "source": [
    "### Properties of proximal map \n",
    "$$\n",
    "x_{k+1} = prox_{f}(x_k)\n",
    "$$\n",
    "\n",
    "a. Fixed point of proximal operator is equal to minimizer of $f$\n",
    "\n",
    "$$\n",
    "x^* = prox_f(x^*)\n",
    "$$ \n",
    "\n",
    "Proximal map is not a contraction\n",
    "\n",
    "There exists theory on firm non-expansiveness of proximal operator\n",
    "\n",
    "Recent [paper](https://arxiv.org/pdf/1808.03971.pdf) proposes technique to deal with such kind of non-expansiveness\n",
    "\n",
    "b. Resolvent of operator\n",
    "\n",
    "$$\n",
    "prox_{\\alpha f}(x) = (I + \\alpha f')^{-1}(x)\n",
    "$$\n",
    "\n",
    "This property can be extended to subdifferential."
   ]
  },
  {
   "cell_type": "markdown",
   "metadata": {
    "slideshow": {
     "slide_type": "slide"
    }
   },
   "source": [
    "### Modified gradient step interpretation\n",
    "\n",
    "Assume $f$ is twice differentiable and strong convex ($f''(x) \\succ 0$).\n",
    "\n",
    "1. Gradient method as approximation of proximal method\n",
    "\n",
    "$$\n",
    "x_{k+1} = prox_{\\alpha f} (x_k) = (I + \\alpha f')^{-1}(x_k) \\approx x_k - \\alpha f'(x_k) + o(\\alpha), \\; \\alpha \\to 0  \n",
    "$$\n",
    "\n",
    "2. Proximal method for second-order approximation $\\hat{f}(v) = f(x) + \\langle f'(x), v - x \\rangle + \\frac{1}{2}\\langle v - x, f''(x) (v - x) \\rangle$\n",
    "\n",
    "$$\n",
    "prox_{\\alpha \\hat{f}}(x_k) = x_k - (f''(x_k) + (1 / \\alpha)I)^{-1}f'(x_k) \n",
    "$$"
   ]
  },
  {
   "cell_type": "markdown",
   "metadata": {
    "slideshow": {
     "slide_type": "slide"
    }
   },
   "source": [
    "### Separable sum\n",
    "\n",
    "If $f$ has the form\n",
    "\n",
    "$$\n",
    "f(x) = \\sum_{i=1}^n f_i(x_i)\n",
    "$$\n",
    "\n",
    "then \n",
    "$$\n",
    "prox_f(v)_i = prox_{f_i}(v_i)\n",
    "$$\n",
    "\n",
    "- High parallelization of the proximal operator computing \n",
    "- **Consensus form** of the problem\n",
    "\n",
    "$$\n",
    "\\min \\sum_{i=1}^n f_i(x) \\to \\min \\sum_{i=1}^n f_i(x_i), \\; \\text{s.t. } x_1 = \\ldots = x_n\n",
    "$$\n",
    "\n",
    "- Well-stated for distributed optimization"
   ]
  },
  {
   "cell_type": "markdown",
   "metadata": {
    "slideshow": {
     "slide_type": "slide"
    }
   },
   "source": [
    "## Proximal gradient method (PGM)\n",
    "\n",
    "Consider convex function $f$ such that\n",
    "\n",
    "$$\n",
    "f(x) = h(x) + g(x),\n",
    "$$\n",
    "\n",
    "where $h(x)$ is convex differentiable, and $g(x)$ can be convex extended-value function, so $g: \\mathbb{R}^n \\to \\mathbb{R} \\cup \\{+\\infty\\}$\n",
    "\n",
    "Then the one step of the proximal gradient method is\n",
    "\n",
    "$$\n",
    "x_{k+1} = prox_{\\alpha_k g} (x_k - \\alpha_k h'(x_k))\n",
    "$$\n",
    "\n",
    "- Convergence rate $\\mathcal{O}(1/k)$ for step size $\\alpha_k \\equiv \\alpha \\in (0, 1/L]$, where $L$ is Lipschitz constant of $f'$\n",
    "- Backtracking procedure is available for adaptive search of $\\alpha_k$"
   ]
  },
  {
   "cell_type": "markdown",
   "metadata": {
    "slideshow": {
     "slide_type": "slide"
    }
   },
   "source": [
    "### Fixed point iteration interpretation\n",
    "\n",
    "From the first-order optimality condition follows\n",
    "\n",
    "\\begin{align*}\n",
    "& 0 \\in \\alpha h'(x^*) + \\alpha\\partial g(x^*)\\\\\n",
    "& 0 \\in \\alpha h'(x^*) + x^* - x^* + \\alpha\\partial g(x^*)\\\\\n",
    "& (I - \\alpha h')(x^*) \\in (I + \\alpha \\partial g)(x^*)\\\\\n",
    "& x^* = (I + \\alpha \\partial g)^{-1}(I - \\alpha h')(x^*)\\\\\n",
    "& x^* = prox_{\\alpha g}(x^* - \\alpha h'(x^*))\n",
    "\\end{align*}"
   ]
  },
  {
   "cell_type": "markdown",
   "metadata": {
    "slideshow": {
     "slide_type": "slide"
    }
   },
   "source": [
    "## Experiments"
   ]
  },
  {
   "cell_type": "code",
   "execution_count": 10,
   "metadata": {
    "slideshow": {
     "slide_type": "slide"
    }
   },
   "outputs": [],
   "source": [
    "import numpy as np\n",
    "def prox_alg(f, f_grad, g_prox, x0, num_iter, beta=0.5, fix_lam=None, accel=False):\n",
    "    conv = [x0]\n",
    "    x = x0.copy()\n",
    "    if accel:\n",
    "        t_prev = 1\n",
    "        t_next = (1 + np.sqrt(1 + 4 * t_prev**2)) / 2.\n",
    "    if fix_lam is None:\n",
    "        lam = 1.\n",
    "    for i in range(num_iter):\n",
    "        if accel and i > 0:\n",
    "            x = x + (t_prev - 1) / t_next * (x - conv[-2])\n",
    "            t_prev = t_next\n",
    "            t_next = (1 + np.sqrt(1 + 4 * t_prev**2)) / 2.\n",
    "        if fix_lam is None:\n",
    "            while True:\n",
    "                z = g_prox(x - lam * f_grad(x), lam)\n",
    "                if f(z) <= f(x) + f_grad(x).dot(z - x) + np.linalg.norm(z - x)**2 / (2 * lam):\n",
    "                    break\n",
    "                else:\n",
    "                    lam = lam * beta\n",
    "        else:\n",
    "            z = g_prox(x - fix_lam * f_grad(x), fix_lam)\n",
    "        x = z.copy()\n",
    "        conv.append(x)\n",
    "    return x, conv"
   ]
  },
  {
   "cell_type": "code",
   "execution_count": 3,
   "metadata": {
    "slideshow": {
     "slide_type": "slide"
    }
   },
   "outputs": [],
   "source": [
    "f = lambda x: np.linalg.norm(A.dot(x) - y)**2 / 2\n",
    "f_grad = lambda x: A.T.dot(A.dot(x) - y)\n",
    "def g_prox(h, lam):\n",
    "    return np.sign(h) * np.maximum(np.abs(h) - lam * gamma, 0) "
   ]
  },
  {
   "cell_type": "code",
   "execution_count": 44,
   "metadata": {
    "slideshow": {
     "slide_type": "slide"
    }
   },
   "outputs": [
    {
     "name": "stdout",
     "output_type": "stream",
     "text": [
      "0.000533053227275764\n",
      "Number of nonzeros in x_true = 96\n"
     ]
    }
   ],
   "source": [
    "import sklearn.preprocessing as skprep\n",
    "import numpy as np\n",
    "m = 500\n",
    "n = 2500\n",
    "A = np.random.rand(m, n)\n",
    "A = skprep.normalize(A, norm=\"l2\", axis=0)\n",
    "L = np.linalg.eigvalsh(A.T.dot(A)).max()\n",
    "print(1./L)\n",
    "x_true = np.random.randn(n)\n",
    "x_true[np.random.rand(n) < 0.96] = 0\n",
    "print(\"Number of nonzeros in x_true = {}\".format(np.sum(x_true != 0)))\n",
    "v = 9e-2 * np.random.randn(m)\n",
    "y = A.dot(x_true) + v"
   ]
  },
  {
   "cell_type": "code",
   "execution_count": 50,
   "metadata": {
    "slideshow": {
     "slide_type": "slide"
    }
   },
   "outputs": [],
   "source": [
    "gamma = 0.1\n",
    "num_iter = 2000\n",
    "# x0 = np.zeros(n)\n",
    "x0 = np.random.rand(n)"
   ]
  },
  {
   "cell_type": "code",
   "execution_count": 55,
   "metadata": {
    "slideshow": {
     "slide_type": "slide"
    }
   },
   "outputs": [
    {
     "name": "stdout",
     "output_type": "stream",
     "text": [
      "Number nonzeros in x* = 2472\n",
      "f* = 76.10922132097664\n",
      "Number nonzeros in x* = 598\n",
      "f* = 6.815583296905293\n",
      "2.259832539992771 21.26858879331311 15.69079788939726 4.915421723827913\n"
     ]
    }
   ],
   "source": [
    "x, conv = prox_alg(f, f_grad, g_prox, x0, num_iter, fix_lam=1e-4)\n",
    "print(\"Number nonzeros in x* = {}\".format(np.sum(x != 0)))\n",
    "print(\"f* = {}\".format(f(x) + gamma * np.linalg.norm(x, 1)))\n",
    "x_acc, conv_acc = prox_alg(f, f_grad, g_prox, x0, num_iter, \n",
    "                           fix_lam=1e-4, accel=True)\n",
    "print(\"Number nonzeros in x* = {}\".format(np.sum(x_acc != 0)))\n",
    "print(\"f* = {}\".format(f(x_acc) + gamma * np.linalg.norm(x_acc, 1)))\n",
    "print(f(x_acc), f(x),\n",
    "      np.linalg.norm(x_true - x), np.linalg.norm(x_true - x_acc))"
   ]
  },
  {
   "cell_type": "code",
   "execution_count": 53,
   "metadata": {
    "scrolled": true,
    "slideshow": {
     "slide_type": "slide"
    }
   },
   "outputs": [
    {
     "data": {
      "image/png": "[encoded data removed]",
      "text/plain": [
       "<Figure size 720x576 with 1 Axes>"
      ]
     },
     "metadata": {},
     "output_type": "display_data"
    }
   ],
   "source": [
    "import matplotlib.pyplot as plt\n",
    "%matplotlib inline\n",
    "plt.figure(figsize=(10, 8))\n",
    "fontsize=25\n",
    "plt.plot([f(x) + gamma * np.linalg.norm(x, 1) for x in conv], label=\"ISTA\")\n",
    "# plt.plot([f(x) + gamma * np.linalg.norm(x, 1) for x in conv_acc], label=\"FISTA\")\n",
    "plt.legend(fontsize=fontsize)\n",
    "plt.xlabel(r\"Number of iterations, $k$\", fontsize=fontsize)\n",
    "plt.ylabel(r\"Lasso objective, $h(x_k) + g(x_k)$\", fontsize=fontsize)\n",
    "plt.xticks(fontsize=fontsize)\n",
    "_ = plt.yticks(fontsize=fontsize)\n",
    "plt.yscale(\"log\")"
   ]
  },
  {
   "cell_type": "markdown",
   "metadata": {
    "slideshow": {
     "slide_type": "slide"
    }
   },
   "source": [
    "## Proximal algorithms highlights\n",
    "\n",
    "- Very useful for composite objectives if one item is \"simple\"\n",
    "- Many regularizers admit cheap prox evaluations\n",
    "- Distributed optimization set up\n",
    "- ADMM in later lectures..."
   ]
  },
  {
   "cell_type": "markdown",
   "metadata": {
    "slideshow": {
     "slide_type": "slide"
    }
   },
   "source": [
    "## References\n",
    "\n",
    "1. [Proximal algorithms](http://web.stanford.edu/~boyd/papers/pdf/prox_algs.pdf) and related [sources](http://web.stanford.edu/~boyd/papers/prox_algs.html) by N. Parikh and S. Boyd \n",
    "2. [Gradient-based algorithms with applications to signal recovery problems](http://www.math.tau.ac.il/~teboulle/papers/gradient_chapter.pdf) by A. Beck and M. Teboulle\n",
    "3. [Proximal Backpropagation](https://arxiv.org/abs/1706.04638) by T Frerix et al (ICLR 2018)\n",
    "4. [Stochastic Proximal Gradient Descent with Acceleration Techniques](https://papers.nips.cc/paper/5610-stochastic-proximal-gradient-descent-with-acceleration-techniques.pdf) by A. Nitanda (NIPS 2014)"
   ]
  }
 ],
 "metadata": {
  "celltoolbar": "Slideshow",
  "kernelspec": {
   "display_name": "Python 3 (cvxpy)",
   "language": "python",
   "name": "cvxpy"
  },
  "language_info": {
   "codemirror_mode": {
    "name": "ipython",
    "version": 3
   },
   "file_extension": ".py",
   "mimetype": "text/x-python",
   "name": "python",
   "nbconvert_exporter": "python",
   "pygments_lexer": "ipython3",
   "version": "3.6.8"
  }
 },
 "nbformat": 4,
 "nbformat_minor": 2
}
