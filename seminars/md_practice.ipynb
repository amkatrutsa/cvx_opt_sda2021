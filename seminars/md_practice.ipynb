{
 "cells": [
  {
   "cell_type": "markdown",
   "metadata": {
    "slideshow": {
     "slide_type": "slide"
    }
   },
   "source": [
    "# Numerics of MD"
   ]
  },
  {
   "cell_type": "markdown",
   "metadata": {
    "slideshow": {
     "slide_type": "slide"
    }
   },
   "source": [
    "## Test problem\n",
    "\n",
    "\\begin{align*}\n",
    "& \\min_x \\|Ax - b\\|_1\\\\\n",
    "\\text{s.t. } & x \\in \\Delta\n",
    "\\end{align*}\n",
    "\n",
    "- Subgradient $g = \\sum_{i=1}^m sign(a_i^{\\top}x - b) a_i$\n",
    "- Projected subgradient descent $(\\varphi(x) = \\frac12\\|x\\|^2_2)$\n",
    "$$\n",
    "x_{k+1} = \\arg\\min_{x \\in \\Delta} (\\langle g_k, x\\rangle + \\frac{1}{2\\alpha_k}\\|x - x_k\\|_2^2)\n",
    "$$\n",
    "Algorithm for computing projection onto simplex is provided [here](https://arxiv.org/pdf/1101.6081.pdf)\n",
    "- Entropic descent $(\\varphi(x) = \\sum_{i=1}^n x_i \\log x_i)$\n",
    "$$\n",
    "x^i_{k+1} = \\frac{x_k^i \\exp(-\\alpha_k g(x_k)_i)}{\\sum_{j=1}^n x_k^j \\exp(-\\alpha_k g(x_k)_j)}\n",
    "$$"
   ]
  },
  {
   "cell_type": "code",
   "execution_count": 1,
   "metadata": {
    "slideshow": {
     "slide_type": "slide"
    }
   },
   "outputs": [],
   "source": [
    "import numpy as np\n",
    "import matplotlib.pyplot as plt\n",
    "%matplotlib inline\n",
    "plt.rc(\"text\", usetex=True)\n",
    "import cvxpy as cvx\n",
    "from numba import jit"
   ]
  },
  {
   "cell_type": "code",
   "execution_count": 2,
   "metadata": {
    "slideshow": {
     "slide_type": "slide"
    }
   },
   "outputs": [],
   "source": [
    "def entropic_descent(subgrad, x0, step_size=None, max_iter=100):\n",
    "    x = x0.copy()\n",
    "    conv = [x]\n",
    "    for i in range(max_iter):\n",
    "        g = subgrad(x)\n",
    "        if step_size is None:\n",
    "            alpha = 1. / (i + 1)\n",
    "        else:\n",
    "            alpha = step_size\n",
    "        x = x * np.exp(-alpha * g) / np.sum(x * np.exp(-alpha * g))\n",
    "        conv.append(x)\n",
    "    return x, conv"
   ]
  },
  {
   "cell_type": "code",
   "execution_count": 29,
   "metadata": {
    "slideshow": {
     "slide_type": "slide"
    }
   },
   "outputs": [],
   "source": [
    "@jit(nopython=True)\n",
    "def proj(y):\n",
    "    x = y.copy()\n",
    "    if np.all(x >= 0) and np.sum(x) <= 1:\n",
    "        return x / np.sum(x)\n",
    "    x[x < 0] = 0\n",
    "    if np.sum(x) <= 1:\n",
    "        return x / np.sum(x)\n",
    "    n = x.shape[0]\n",
    "    bget = False\n",
    "    x.sort()\n",
    "    x = x[::-1]\n",
    "    temp_sum = 0\n",
    "    for i in range(n - 1):\n",
    "        temp_sum += x[i]\n",
    "        t_hat = (temp_sum - 1.0) / (i + 1)\n",
    "        if t_hat >= x[i + 1]:\n",
    "            bget = True\n",
    "            break\n",
    "    if not bget:\n",
    "        t_hat = (temp_sum + x[n - 1] - 1.0) / n\n",
    "    return np.maximum(y - t_hat, 0)"
   ]
  },
  {
   "cell_type": "code",
   "execution_count": 30,
   "metadata": {
    "slideshow": {
     "slide_type": "slide"
    }
   },
   "outputs": [],
   "source": [
    "def proj_subgrad(subgrad, proj, x0, step_size=None, max_iter=100):\n",
    "    x = x0.copy()\n",
    "    conv = [x]\n",
    "    for i in range(max_iter):\n",
    "        g = subgrad(x)\n",
    "        if step_size is None:\n",
    "            alpha = 1. / (i+1) \n",
    "        else:\n",
    "            alpha = step_size\n",
    "        x = proj(x - alpha * g)\n",
    "        conv.append(x)\n",
    "    return x, conv"
   ]
  },
  {
   "cell_type": "code",
   "execution_count": 31,
   "metadata": {
    "slideshow": {
     "slide_type": "slide"
    }
   },
   "outputs": [],
   "source": [
    "m = 20\n",
    "n = 3000\n",
    "A = np.random.randn(m, n)\n",
    "# x_true = np.random.rand(n)\n",
    "# x_true = x_true / np.linalg.norm(x_true, 1)\n",
    "x_true = np.zeros(n)\n",
    "x_true[0] = 0.5\n",
    "x_true[1] = 0.5\n",
    "b = A.dot(x_true)\n",
    "# b = 0.5 * (A[:, 0] + A[:, 1])"
   ]
  },
  {
   "cell_type": "code",
   "execution_count": 32,
   "metadata": {
    "slideshow": {
     "slide_type": "slide"
    }
   },
   "outputs": [],
   "source": [
    "x0 = np.ones(n) / n\n",
    "max_iter = 7000\n",
    "step_size_md = 1e-2\n",
    "\n",
    "step_size_sg = 1e-2"
   ]
  },
  {
   "cell_type": "code",
   "execution_count": 33,
   "metadata": {
    "slideshow": {
     "slide_type": "slide"
    }
   },
   "outputs": [],
   "source": [
    "subgrad = lambda x: np.sum(A.T * np.sign(A.dot(x) - b), axis=1)\n",
    "f = lambda x: np.linalg.norm(A.dot(x) - b, 1)"
   ]
  },
  {
   "cell_type": "code",
   "execution_count": 34,
   "metadata": {
    "slideshow": {
     "slide_type": "slide"
    }
   },
   "outputs": [
    {
     "name": "stdout",
     "output_type": "stream",
     "text": [
      "1.0\n",
      "1.0000000000000004\n"
     ]
    }
   ],
   "source": [
    "x_entr, conv_entr = entropic_descent(subgrad, x0, step_size_md, max_iter)\n",
    "print(np.linalg.norm(x_entr, 1))\n",
    "x_subgr, conv_projsub = proj_subgrad(subgrad, proj, x0, step_size_sg, max_iter)\n",
    "print(np.linalg.norm(x_subgr, 1))"
   ]
  },
  {
   "cell_type": "code",
   "execution_count": 35,
   "metadata": {
    "slideshow": {
     "slide_type": "slide"
    }
   },
   "outputs": [
    {
     "data": {
      "text/plain": [
       "(array([1.e-02, 1.e-01, 1.e+00, 1.e+01, 1.e+02, 1.e+03]),\n",
       " <a list of 6 Text yticklabel objects>)"
      ]
     },
     "execution_count": 35,
     "metadata": {},
     "output_type": "execute_result"
    },
    {
     "data": {
      "image/png": "[encoded data removed]",
      "text/plain": [
       "<Figure size 432x288 with 1 Axes>"
      ]
     },
     "metadata": {},
     "output_type": "display_data"
    }
   ],
   "source": [
    "plt.semilogy([f(x) for x in conv_entr], label=\"Entropy\")\n",
    "plt.semilogy([f(x) for x in conv_projsub], label=\"Proj subgrad\")\n",
    "plt.legend()\n",
    "plt.yticks(fontsize=20)"
   ]
  },
  {
   "cell_type": "code",
   "execution_count": 36,
   "metadata": {
    "scrolled": true
   },
   "outputs": [
    {
     "data": {
      "text/plain": [
       "(array([ 0.01,  0.1 ,  1.  , 10.  ]), <a list of 4 Text yticklabel objects>)"
      ]
     },
     "execution_count": 36,
     "metadata": {},
     "output_type": "execute_result"
    },
    {
     "data": {
      "image/png": "[encoded data removed]",
      "text/plain": [
       "<Figure size 432x288 with 1 Axes>"
      ]
     },
     "metadata": {},
     "output_type": "display_data"
    }
   ],
   "source": [
    "plt.semilogy([np.linalg.norm(x - x_true) for x in conv_entr], label=\"Entropy\")\n",
    "plt.semilogy([np.linalg.norm(x - x_true) for x in conv_projsub], label=\"Proj subgrad\")\n",
    "plt.legend()\n",
    "plt.yticks(fontsize=20)"
   ]
  },
  {
   "cell_type": "code",
   "execution_count": 40,
   "metadata": {},
   "outputs": [
    {
     "data": {
      "text/plain": [
       "(array([0.15002347, 0.        , 0.        , ..., 0.        , 0.        ,\n",
       "        0.        ]),\n",
       " array([3.94247908e-01, 4.42429912e-01, 3.93610171e-20, ...,\n",
       "        9.38711461e-18, 1.56434402e-15, 6.86527329e-15]))"
      ]
     },
     "execution_count": 40,
     "metadata": {},
     "output_type": "execute_result"
    }
   ],
   "source": [
    "x_subgr, x_entr"
   ]
  },
  {
   "cell_type": "code",
   "execution_count": null,
   "metadata": {},
   "outputs": [],
   "source": []
  }
 ],
 "metadata": {
  "celltoolbar": "Slideshow",
  "kernelspec": {
   "display_name": "Python 3 (cvxpy)",
   "language": "python",
   "name": "cvxpy"
  },
  "language_info": {
   "codemirror_mode": {
    "name": "ipython",
    "version": 3
   },
   "file_extension": ".py",
   "mimetype": "text/x-python",
   "name": "python",
   "nbconvert_exporter": "python",
   "pygments_lexer": "ipython3",
   "version": "3.6.8"
  }
 },
 "nbformat": 4,
 "nbformat_minor": 2
}
